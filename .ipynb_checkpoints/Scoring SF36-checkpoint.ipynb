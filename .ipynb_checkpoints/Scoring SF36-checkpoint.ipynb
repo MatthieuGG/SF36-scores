{
 "cells": [
  {
   "cell_type": "markdown",
   "id": "001e0e99",
   "metadata": {},
   "source": [
    "# Cleaning SF36 Data & scoring"
   ]
  },
  {
   "cell_type": "code",
   "execution_count": 16,
   "id": "6e93e7e6",
   "metadata": {},
   "outputs": [],
   "source": [
    "import numpy as np\n",
    "import pandas as pd\n",
    "import os\n",
    "import re\n",
    "import glob\n",
    "import shutil\n",
    "from datetime import date"
   ]
  },
  {
   "cell_type": "markdown",
   "id": "cbda12b8",
   "metadata": {},
   "source": [
    "# Import data"
   ]
  },
  {
   "cell_type": "code",
   "execution_count": 17,
   "id": "895aed25",
   "metadata": {},
   "outputs": [
    {
     "name": "stdout",
     "output_type": "stream",
     "text": [
      "2 - this needs to be equal to your .csv files amount\n"
     ]
    }
   ],
   "source": [
    "path = os.path.join(os.getcwd(),'sample') #insert your path here\n",
    "\n",
    "data_dict = {}\n",
    "\n",
    "for file_name in os.listdir(path):\n",
    "    if file_name.endswith('.csv'):\n",
    "        file_path = os.path.join(path, file_name)\n",
    "        df = pd.read_csv(file_path).T\n",
    "        df.columns = df.iloc[0]  # Use the first row as column headers\n",
    "        df = df[1:]  # Remove the first row after using it as headers\n",
    "        df = df.reset_index(drop=True)  # Reset the index\n",
    "        df = df.rename_axis(None, axis=1)\n",
    "        df.insert(0, \"ID\", file_name)  # Insert 'ID' column with the file name\n",
    "        data_dict[file_name] = df\n",
    "\n",
    "data_dict = dict(sorted(data_dict.items()))\n",
    "\n",
    "print(f\"{len(data_dict)} - this needs to be equal to your .csv files amount\")"
   ]
  },
  {
   "cell_type": "markdown",
   "id": "31d6b868",
   "metadata": {},
   "source": [
    "# Clean data = missing or out-of-range values, items reorganisation"
   ]
  },
  {
   "cell_type": "code",
   "execution_count": 18,
   "id": "63ccee38",
   "metadata": {},
   "outputs": [],
   "source": [
    "# Check for missing values\n",
    "for key, df in data_dict.items():\n",
    "    missing_values = df[df.isna().any(axis=1)]\n",
    "    if not missing_values.empty:\n",
    "        for index, row in missing_values.iterrows():\n",
    "            missing_columns = row.index[row.isna()]\n",
    "            print(f\"ID {key}: missing in {', '.join(missing_columns)}\")"
   ]
  },
  {
   "cell_type": "code",
   "execution_count": 19,
   "id": "e181ab33",
   "metadata": {},
   "outputs": [
    {
     "name": "stdout",
     "output_type": "stream",
     "text": [
      "Checking SF36 - Sample1.csv:\n",
      "Checking SF36 - Sample2.csv:\n"
     ]
    }
   ],
   "source": [
    "# Check for acherrante values (out of range)\n",
    "value_bounds = {\n",
    "    'Q1': (1, 5),\n",
    "    'Q2': (1, 5),\n",
    "    'Q3a': (1, 2),\n",
    "    'Q3b': (1, 2),\n",
    "    'Q3c': (1, 2),\n",
    "    'Q3d': (1, 2),\n",
    "    'Q4a': (1, 2),\n",
    "    'Q4b': (1, 2),\n",
    "    'Q4c': (1, 2),\n",
    "    'Q5': (1, 5),\n",
    "    'Q6': (1, 6),\n",
    "    'Q7': (1, 5),\n",
    "    'Q8': (1, 5),\n",
    "    'Q9a': (1,3), \n",
    "    'Q9b': (1,3), \n",
    "    'Q9c': (1,3), \n",
    "    'Q9d': (1,3), \n",
    "    'Q9e': (1,3), \n",
    "    'Q9f': (1,3), \n",
    "    'Q9g': (1,3),\n",
    "    'Q9h': (1,3), \n",
    "    'Q9i': (1,3), \n",
    "    'Q9j': (1,3), \n",
    "    'Q10a': (1,6), \n",
    "    'Q10b': (1,6), \n",
    "    'Q10c': (1,6), \n",
    "    'Q10d': (1,6), \n",
    "    'Q10e': (1,6), \n",
    "    'Q10f': (1,6),\n",
    "    'Q10g': (1,6), \n",
    "    'Q10h': (1,6), \n",
    "    'Q10i': (1,6), \n",
    "    'Q11a': (1,5), \n",
    "    'Q11b': (1,5), \n",
    "    'Q11c': (1,5), \n",
    "    'Q11d': (1,5)    \n",
    "}\n",
    "\n",
    "for key, df in data_dict.items():\n",
    "    print(f\"Checking {key}:\")\n",
    "    for col, bounds in value_bounds.items():\n",
    "        lower_bound, upper_bound = bounds\n",
    "        out_of_bounds = df[(df[col] < lower_bound) | (df[col] > upper_bound)]\n",
    "        if not out_of_bounds.empty:\n",
    "            print(f\"    Key: {key}, Column: {col}, Out of bounds values: {out_of_bounds}\")"
   ]
  },
  {
   "cell_type": "code",
   "execution_count": 20,
   "id": "4d141e4d",
   "metadata": {},
   "outputs": [],
   "source": [
    "# Reorganise items\n",
    "columns_to_prefix = ['Q1', 'Q2', 'Q3a', 'Q3b', 'Q3c', 'Q3d', 'Q4a', 'Q4b', 'Q4c', 'Q5', 'Q6', 'Q7', 'Q8', \n",
    "                     'Q9a', 'Q9b', 'Q9c', 'Q9d', 'Q9e', 'Q9f', 'Q9g', 'Q9h', 'Q9i', 'Q9j', \n",
    "                     'Q10a', 'Q10b', 'Q10c', 'Q10d', 'Q10e', 'Q10f', 'Q10g', 'Q10h', 'Q10i', \n",
    "                     'Q11a', 'Q11b', 'Q11c', 'Q11d']\n",
    "\n",
    "mappings = {\n",
    "    'Old_Q9': 'New_Q3',\n",
    "    'Old_Q3': 'New_Q4',\n",
    "    'Old_Q4': 'New_Q5',\n",
    "    'Old_Q5': 'New_Q6',\n",
    "    'Old_Q6': 'New_Q7',\n",
    "    'Old_Q7': 'New_Q8',\n",
    "    'Old_Q10': 'New_Q9',\n",
    "    'Old_Q8': 'New_Q10'  \n",
    "}\n",
    "\n",
    "new_order = ['ID', '1', '2', '3a', '3b', '3c', '3d', '3e', '3f', '3g', '3h', '3i', '3j', \n",
    "             '4a', '4b', '4c', '4d', '5a', '5b', '5c', '6', '7', '8', \n",
    "             '9a', '9b', '9c', '9d', '9e', '9f', '9g', '9h', '9i', '10','11a', '11b', '11c', '11d']\n",
    "\n",
    "for key, df in data_dict.items():\n",
    "    for col in columns_to_prefix:\n",
    "        df.rename(columns={col: 'Old_' + col}, inplace=True)\n",
    "    \n",
    "    for col in df.columns:\n",
    "        for old, new in mappings.items():\n",
    "            if col.startswith(old):\n",
    "                new_col = col.replace(old, new)\n",
    "                df.rename(columns={col: new_col}, inplace=True)\n",
    "    \n",
    "    df.columns = df.columns.str.replace(r'(Old|New)_Q', '', regex=True)\n",
    "    df = df[new_order]\n",
    "\n",
    "    data_dict[key] = df"
   ]
  },
  {
   "cell_type": "markdown",
   "id": "707efcaf",
   "metadata": {},
   "source": [
    "# Scoring = recalibrate scores, calculating scales"
   ]
  },
  {
   "cell_type": "code",
   "execution_count": 21,
   "id": "7734cb03",
   "metadata": {},
   "outputs": [],
   "source": [
    "# Reverse / recalibrate score for some items\n",
    "replacement_dicts = {\n",
    "    '1': {1: 5.0, 2: 4.4, 3: 3.4, 4: 2.0, 5: 1.0},\n",
    "    '6': {1: 5, 2: 4, 3: 3, 4: 2, 5: 1},\n",
    "    '7': {1: 6.0, 2: 5.4, 3: 4.2, 4: 3.1, 5: 2.2, 6: 1.0},\n",
    "    '9a': {1: 6, 2: 5, 3: 4, 4: 3, 5: 2, 6: 1},\n",
    "    '9e': {1: 6, 2: 5, 3: 4, 4: 3, 5: 2, 6: 1},\n",
    "    '9d': {1: 6, 2: 5, 3: 4, 4: 3, 5: 2, 6: 1},\n",
    "    '9h': {1: 6, 2: 5, 3: 4, 4: 3, 5: 2, 6: 1},\n",
    "    '11b': {1: 5, 2: 4, 3: 3, 4: 2, 5: 1},\n",
    "    '11d': {1: 5, 2: 4, 3: 3, 4: 2, 5: 1}\n",
    "}\n",
    "\n",
    "for key, df in data_dict.items():\n",
    "    for col, replacement_dict in replacement_dicts.items():\n",
    "        if col in df.columns:\n",
    "            df[col] = df[col].replace(replacement_dict)\n",
    "            data_dict[key] = df\n",
    "            \n",
    "    if '7' in df.columns and '8' in df.columns:\n",
    "        condition = df['7'].isna()\n",
    "        replacement_dict_conditional = {\n",
    "            1: np.where(condition, 6.0, 5),\n",
    "            2: np.where(condition, 4.75, 4),\n",
    "            3: np.where(condition, 3.5, 3),\n",
    "            4: np.where(condition, 2.25, 2),\n",
    "            5: np.where(condition, 1.0, 1)\n",
    "        }\n",
    "        df['8'] = df['8'].replace(replacement_dict_conditional)\n",
    "        data_dict[key] = df    \n"
   ]
  },
  {
   "cell_type": "code",
   "execution_count": 22,
   "id": "cd707ace",
   "metadata": {},
   "outputs": [],
   "source": [
    "# Recode missing by mean \n",
    "column_sets = [\n",
    "    ['3a', '3b', '3c', '3d', '3e', '3f', '3g', '3h', '3i', '3j'],\n",
    "    ['4a', '4b', '4c', '4d'],\n",
    "    ['7', '8'],\n",
    "    ['1', '11a', '11b', '11c', '11d'],\n",
    "    ['9a', '9e', '9g', '9i'],\n",
    "    ['6', '10'],\n",
    "    ['5a', '5b', '5c'],\n",
    "    ['9b', '9c', '9d', '9f', '9h']\n",
    "]\n",
    "\n",
    "for df_name, df in data_dict.items():\n",
    "    for columns in column_sets:\n",
    "        row_mean = df[columns].mean(axis=1)\n",
    "        for col in columns:\n",
    "            df[col] = df[col].fillna(row_mean)\n",
    "\n",
    "#to check\n",
    "for key, df in data_dict.items():\n",
    "    missing_values = df[df.isna().any(axis=1)]\n",
    "    if not missing_values.empty:\n",
    "        for index, row in missing_values.iterrows():\n",
    "            missing_columns = row.index[row.isna()]\n",
    "            print(f\"ID {key}: missing in {', '.join(missing_columns)}\")"
   ]
  },
  {
   "cell_type": "code",
   "execution_count": 23,
   "id": "5154536c",
   "metadata": {},
   "outputs": [],
   "source": [
    "# Compute raw scales\n",
    "scale_columns = {\n",
    "    'Physical Functioning': ['3a', '3b', '3c', '3d', '3e', '3f', '3g', '3h', '3i', '3j'],\n",
    "    'Role-Physical': ['4a', '4b', '4c', '4d'],\n",
    "    'Bodily-Pain': ['7', '8'],\n",
    "    'General Health': ['1', '11a', '11b', '11c', '11d'],\n",
    "    'Vitality': ['9a', '9e', '9g', '9i'],\n",
    "    'Social Functioning': ['6', '10'],\n",
    "    'Role-Emotional': ['5a', '5b', '5c'],\n",
    "    'Mental Health': ['9b', '9c', '9d', '9f', '9h'],\n",
    "    'Reported Health Transition': ['2'],\n",
    "    'Mean Current Health': ['1']\n",
    "}\n",
    "\n",
    "scale_dict = {}\n",
    "\n",
    "for key, df in data_dict.items():\n",
    "    scale_df = pd.DataFrame(columns=scale_columns.keys())\n",
    "    \n",
    "    for scale, columns in scale_columns.items():\n",
    "        scale_df[scale] = df[columns].astype(float).sum(axis=1)\n",
    "    \n",
    "    scale_dict[key] = scale_df"
   ]
  },
  {
   "cell_type": "code",
   "execution_count": 24,
   "id": "7f55f367",
   "metadata": {},
   "outputs": [],
   "source": [
    "# Transform raw scales to 0-100 scales\n",
    "transformed_scale_dict = {}\n",
    "\n",
    "for key, df in scale_dict.items():\n",
    "    df['Physical Functioning'] = (df['Physical Functioning']-10)/20*100\n",
    "    df['Role-Physical'] = (df['Role-Physical']-4)/4*100\n",
    "    df['Bodily-Pain'] = (df['Bodily-Pain']-2)/10*100\n",
    "    df['General Health'] = (df['General Health']-5)/20*100\n",
    "    df['Vitality'] = (df['Vitality']-4)/20*100\n",
    "    df['Social Functioning'] = (df['Social Functioning']-2)/8*100\n",
    "    df['Role-Emotional'] = (df['Role-Emotional']-3)/3*100\n",
    "    df['Mental Health'] = (df['Mental Health']-5)/25*100\n",
    "    df['Reported Health Transition'] = (df['Reported Health Transition']-1)/5*100\n",
    "\n",
    "    transformed_scale_dict[key] = df\n",
    "    \n",
    "replacement_dicts = {'Mean Current Health': {5:100, 4.4:84, 3.4:61, 2:25, 1:0}}\n",
    "\n",
    "for key, df in transformed_scale_dict.items():\n",
    "    for col, replacement_dict in replacement_dicts.items():\n",
    "        if col in df.columns:\n",
    "            df[col] = df[col].replace(replacement_dict)\n",
    "            transformed_scale_dict[key] = df"
   ]
  },
  {
   "cell_type": "code",
   "execution_count": 29,
   "id": "9f043291",
   "metadata": {},
   "outputs": [],
   "source": [
    "# Gather scales - this is described as a possibility\n",
    "for key, df in transformed_scale_dict.items():\n",
    "    df['PHYSICAL'] = df[['Physical Functioning', \n",
    "                                         'Role-Physical', \n",
    "                                         'Bodily-Pain', \n",
    "                                         'General Health']].mean(axis=1)\n",
    "    df['MENTAL'] = df[['Vitality', \n",
    "                                   'Social Functioning', \n",
    "                                   'Role-Emotional', \n",
    "                                   'Mental Health']].mean(axis=1)\n",
    "    \n",
    "    df['GLOBAL'] = df[['Physical Functioning', 'Role-Physical', 'Bodily-Pain',\n",
    "       'General Health', 'Vitality', 'Social Functioning', 'Role-Emotional',\n",
    "       'Mental Health']].mean(axis=1)\n",
    "    \n",
    "    df.insert(0, 'ID', key)\n",
    "    \n",
    "    transformed_scale_dict[key] = df"
   ]
  },
  {
   "cell_type": "code",
   "execution_count": 31,
   "id": "9baf9fb8",
   "metadata": {},
   "outputs": [],
   "source": [
    "import os\n",
    "import pandas as pd\n",
    "from datetime import datetime\n",
    "\n",
    "output_path = os.path.join(os.getcwd(),'results') #insert your export path here\n",
    "\n",
    "date_today = datetime.today().strftime('%Y-%m-%d')\n",
    "output_folder = os.path.join(output_path, date_today)\n",
    "\n",
    "if not os.path.exists(output_folder):\n",
    "    os.makedirs(output_folder)\n",
    "\n",
    "for key, df in transformed_scale_dict.items():\n",
    "    file_path = os.path.join(output_folder, f\"{key}.csv\")\n",
    "    df.to_csv(file_path, index=False)\n",
    "\n",
    "concatenated_df = pd.concat(transformed_scale_dict.values(), axis=0)\n",
    "concatenated_df = concatenated_df.sort_values(by=['ID'])\n",
    "concatenated_filename = os.path.join(output_path, \"concatenated_data.csv\")\n",
    "concatenated_df.to_csv(concatenated_filename, index=False)"
   ]
  }
 ],
 "metadata": {
  "kernelspec": {
   "display_name": "Python 3 (ipykernel)",
   "language": "python",
   "name": "python3"
  },
  "language_info": {
   "codemirror_mode": {
    "name": "ipython",
    "version": 3
   },
   "file_extension": ".py",
   "mimetype": "text/x-python",
   "name": "python",
   "nbconvert_exporter": "python",
   "pygments_lexer": "ipython3",
   "version": "3.9.13"
  }
 },
 "nbformat": 4,
 "nbformat_minor": 5
}
